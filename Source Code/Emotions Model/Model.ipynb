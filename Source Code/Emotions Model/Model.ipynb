{
 "cells": [
  {
   "cell_type": "code",
   "execution_count": null,
   "metadata": {
    "_cell_guid": "b1076dfc-b9ad-4769-8c92-a6c4dae69d19",
    "_uuid": "8f2839f25d086af736a60e9eeb907d3b93b6e0e5",
    "execution": {
     "iopub.execute_input": "2023-04-22T04:50:00.017840Z",
     "iopub.status.busy": "2023-04-22T04:50:00.017086Z",
     "iopub.status.idle": "2023-04-22T04:50:02.930510Z",
     "shell.execute_reply": "2023-04-22T04:50:02.929393Z",
     "shell.execute_reply.started": "2023-04-22T04:50:00.017757Z"
    }
   },
   "outputs": [],
   "source": [
    "from tensorflow.keras.preprocessing.image import ImageDataGenerator\n",
    "import tensorflow as tf\n",
    "from tensorflow.keras.layers import Conv2D,Flatten,MaxPooling2D,Input,BatchNormalization,Dropout,Dense\n",
    "from tensorflow.keras.callbacks import EarlyStopping,TensorBoard ,ModelCheckpoint\n",
    "from tensorflow.keras.optimizers import Adam\n",
    "from tensorflow.keras.models import Model\n",
    "import matplotlib.pyplot as plt\n",
    "from sklearn.metrics import confusion_matrix\n",
    "import numpy as np\n"
   ]
  },
  {
   "cell_type": "code",
   "execution_count": null,
   "metadata": {
    "execution": {
     "iopub.execute_input": "2023-04-22T04:50:02.933571Z",
     "iopub.status.busy": "2023-04-22T04:50:02.932130Z",
     "iopub.status.idle": "2023-04-22T04:50:04.481061Z",
     "shell.execute_reply": "2023-04-22T04:50:04.480301Z",
     "shell.execute_reply.started": "2023-04-22T04:50:02.933530Z"
    }
   },
   "outputs": [],
   "source": [
    "\n",
    "input = Input(shape=(48,48,1))\n",
    "x = Conv2D(filters=256,kernel_size=3,activation='relu',padding='same')(input)\n",
    "\n",
    "x = Conv2D(filters=512,kernel_size=3,activation='relu',padding='same')(x)\n",
    "x = BatchNormalization()(x)\n",
    "\n",
    "#\n",
    "x = MaxPooling2D(pool_size=(2,2))(x)\n",
    "x = Dropout(0.4)(x)\n",
    "\n",
    "x = Conv2D(filters=384,kernel_size=3,activation='relu',padding='same')(x)\n",
    "x = BatchNormalization()(x)\n",
    "\n",
    "x = MaxPooling2D(pool_size=(2,2))(x)\n",
    "x = Dropout(0.4)(x)\n",
    "\n",
    "x = Conv2D(filters=192,kernel_size=3,activation='relu',padding='same')(x)\n",
    "x = BatchNormalization()(x)\n",
    "\n",
    "x = MaxPooling2D(pool_size=(2,2))(x)\n",
    "x = Dropout(0.4)(x)\n",
    "\n",
    "\n",
    "x = Conv2D(filters=384,kernel_size=3,activation='relu',padding='same')(x)\n",
    "x = BatchNormalization()(x)\n",
    "\n",
    "x = MaxPooling2D(pool_size=(2,2))(x)\n",
    "x = Dropout(0.4)(x)\n",
    "\n",
    "x = Flatten()(x)\n",
    "\n",
    "x = Dense(256,activation='relu')(x)\n",
    "x = BatchNormalization()(x)\n",
    "\n",
    "x = Dropout(0.3)(x)\n",
    "x = Dense(7,activation='softmax')(x)\n",
    "\n",
    "model=Model(input,x)\n",
    "\n",
    "model.summary()\n",
    "\n"
   ]
  },
  {
   "cell_type": "code",
   "execution_count": null,
   "metadata": {
    "execution": {
     "iopub.execute_input": "2023-04-22T06:06:54.845531Z",
     "iopub.status.busy": "2023-04-22T06:06:54.844559Z",
     "iopub.status.idle": "2023-04-22T06:07:00.127332Z",
     "shell.execute_reply": "2023-04-22T06:07:00.126131Z",
     "shell.execute_reply.started": "2023-04-22T06:06:54.845493Z"
    }
   },
   "outputs": [],
   "source": [
    "\n",
    "train=r\"/kaggle/input/fer2013/train\"\n",
    "val = '/kaggle/input/fer2013/test'\n",
    "train_datagen = ImageDataGenerator(\n",
    "    rescale=1 / 255.0,\n",
    "    rotation_range = 10,\n",
    "    zoom_range = 0.1,\n",
    "    horizontal_flip = True,\n",
    "     width_shift_range=0.1,\n",
    "    height_shift_range=0.1\n",
    "   )\n",
    "\n",
    "train_generator = train_datagen.flow_from_directory(\n",
    "    directory=train,\n",
    "    target_size=(48, 48),\n",
    "    color_mode=\"grayscale\",\n",
    "    batch_size=128,\n",
    "    class_mode=\"categorical\",\n",
    "    shuffle=True,\n",
    "    seed=42\n",
    ")\n",
    "test_datagen = ImageDataGenerator(\n",
    "    rescale=1 / 255.0,)\n",
    "\n",
    "valid_generator = test_datagen.flow_from_directory(\n",
    "\n",
    "    directory=val,\n",
    "    target_size=(48, 48),\n",
    "    color_mode=\"grayscale\",\n",
    "    class_mode=\"categorical\",\n",
    "    batch_size=128,\n",
    "    shuffle=False,\n",
    "    seed=42\n",
    ")"
   ]
  },
  {
   "cell_type": "code",
   "execution_count": null,
   "metadata": {
    "execution": {
     "iopub.execute_input": "2023-04-22T04:50:08.922033Z",
     "iopub.status.busy": "2023-04-22T04:50:08.921659Z",
     "iopub.status.idle": "2023-04-22T04:50:09.148723Z",
     "shell.execute_reply": "2023-04-22T04:50:09.147668Z",
     "shell.execute_reply.started": "2023-04-22T04:50:08.921993Z"
    }
   },
   "outputs": [],
   "source": [
    "class_labels = list(train_generator.class_indices.keys())\n",
    "class_counts = train_generator.classes\n",
    "\n",
    "fig, ax = plt.subplots()\n",
    "ax.hist(class_counts, bins=len(class_labels))\n",
    "ax.set_xticks(range(len(class_labels)))\n",
    "ax.set_xticklabels(class_labels, rotation=45, ha='right')\n",
    "ax.set_xlabel('Class')\n",
    "ax.set_ylabel('Number of images')\n",
    "plt.show()"
   ]
  },
  {
   "cell_type": "code",
   "execution_count": null,
   "metadata": {
    "execution": {
     "iopub.execute_input": "2023-04-22T04:50:09.150942Z",
     "iopub.status.busy": "2023-04-22T04:50:09.150284Z",
     "iopub.status.idle": "2023-04-22T04:50:09.543199Z",
     "shell.execute_reply": "2023-04-22T04:50:09.542194Z",
     "shell.execute_reply.started": "2023-04-22T04:50:09.150902Z"
    }
   },
   "outputs": [],
   "source": [
    "class_labels = list(valid_generator.class_indices.keys())\n",
    "class_counts = valid_generator.classes\n",
    "\n",
    "fig, ax = plt.subplots()\n",
    "ax.hist(class_counts, bins=len(class_labels))\n",
    "ax.set_xticks(range(len(class_labels)))\n",
    "ax.set_xticklabels(class_labels, rotation=45, ha='right')\n",
    "ax.set_xlabel('Class')\n",
    "ax.set_ylabel('Number of images')\n",
    "plt.show()"
   ]
  },
  {
   "cell_type": "code",
   "execution_count": null,
   "metadata": {
    "execution": {
     "iopub.execute_input": "2023-04-22T04:50:09.545407Z",
     "iopub.status.busy": "2023-04-22T04:50:09.544777Z",
     "iopub.status.idle": "2023-04-22T04:50:09.564797Z",
     "shell.execute_reply": "2023-04-22T04:50:09.563913Z",
     "shell.execute_reply.started": "2023-04-22T04:50:09.545366Z"
    }
   },
   "outputs": [],
   "source": [
    "model.compile(loss='categorical_crossentropy', optimizer='adam', metrics=['accuracy'])\n",
    "checkpoint = ModelCheckpoint(filepath=\"/kaggle/working/new/CheckPoint.h5\",\n",
    "                             monitor='val_accuracy',\n",
    "                             save_best_only=True,\n",
    "                             save_weights_only=False,\n",
    "                             verbose=1\n",
    "                            )\n",
    "early_stopping = EarlyStopping(monitor='val_loss', patience=20,verbose=1)\n",
    "tensorboard = TensorBoard(log_dir=\"/kaggle/working/\")"
   ]
  },
  {
   "cell_type": "code",
   "execution_count": null,
   "metadata": {
    "execution": {
     "iopub.execute_input": "2023-04-22T04:50:09.567235Z",
     "iopub.status.busy": "2023-04-22T04:50:09.566605Z",
     "iopub.status.idle": "2023-04-22T05:51:51.270580Z",
     "shell.execute_reply": "2023-04-22T05:51:51.269585Z",
     "shell.execute_reply.started": "2023-04-22T04:50:09.567197Z"
    }
   },
   "outputs": [],
   "source": [
    "config = tf.compat.v1.ConfigProto()\n",
    "config.gpu_options.allow_growth = True\n",
    "session = tf.compat.v1.Session(config=config)\n",
    "with tf.device('/GPU:0'):\n",
    "    history = model.fit(train_generator,\n",
    "                                  batch_size=128,\n",
    "                                  validation_data=valid_generator,\n",
    "                                  epochs=100,\n",
    "                                  callbacks=[early_stopping, checkpoint,tensorboard],\n",
    "                                  shuffle=False,\n",
    "                                  verbose=1\n",
    "                                 )"
   ]
  },
  {
   "cell_type": "code",
   "execution_count": null,
   "metadata": {
    "execution": {
     "iopub.execute_input": "2023-04-22T05:51:51.272684Z",
     "iopub.status.busy": "2023-04-22T05:51:51.272307Z",
     "iopub.status.idle": "2023-04-22T05:51:51.278712Z",
     "shell.execute_reply": "2023-04-22T05:51:51.277389Z",
     "shell.execute_reply.started": "2023-04-22T05:51:51.272628Z"
    }
   },
   "outputs": [],
   "source": [
    "train_loss = history.history['loss']\n",
    "test_loss = history.history['val_loss']\n",
    "train_accuracy = history.history['accuracy']\n",
    "test_accuracy = history.history['val_accuracy']"
   ]
  },
  {
   "cell_type": "code",
   "execution_count": null,
   "metadata": {
    "execution": {
     "iopub.execute_input": "2023-04-22T05:51:51.281331Z",
     "iopub.status.busy": "2023-04-22T05:51:51.280720Z",
     "iopub.status.idle": "2023-04-22T05:51:51.982120Z",
     "shell.execute_reply": "2023-04-22T05:51:51.981073Z",
     "shell.execute_reply.started": "2023-04-22T05:51:51.281273Z"
    }
   },
   "outputs": [],
   "source": [
    "fig, ax = plt.subplots(ncols=2, figsize=(15,7))\n",
    "\n",
    "ax = ax.ravel()\n",
    "\n",
    "ax[0].plot(train_loss, label='Train Loss', color='royalblue', marker='o', markersize=5)\n",
    "ax[0].plot(test_loss, label='Test Loss', color = 'orangered', marker='o', markersize=5)\n",
    "\n",
    "ax[0].set_xlabel('Epochs', fontsize=14)\n",
    "ax[0].set_ylabel('Categorical Crossentropy', fontsize=14)\n",
    "\n",
    "ax[0].legend(fontsize=14)\n",
    "ax[0].tick_params(axis='both', labelsize=12)\n",
    "\n",
    "ax[1].plot(train_accuracy, label='Train Accuracy', color='royalblue', marker='o', markersize=5)\n",
    "ax[1].plot(test_accuracy, label='Test Accuracy', color='orangered', marker='o', markersize=5)\n",
    "\n",
    "ax[1].set_xlabel('Epochs', fontsize=14)\n",
    "ax[1].set_ylabel('Accuracy', fontsize=14)\n",
    "\n",
    "ax[1].legend(fontsize=14)\n",
    "ax[1].tick_params(axis='both', labelsize=12)\n",
    "\n",
    "fig.suptitle(x=0.5, y=0.92, t=\"Lineplots showing loss and accuracy of CNN model by epochs\", fontsize=16)\n",
    "\n",
    "plt.savefig('final_cnn_loss_accuracy.png', bbox_inches='tight');"
   ]
  },
  {
   "cell_type": "code",
   "execution_count": null,
   "metadata": {
    "execution": {
     "iopub.execute_input": "2023-04-22T05:51:51.984518Z",
     "iopub.status.busy": "2023-04-22T05:51:51.983285Z",
     "iopub.status.idle": "2023-04-22T05:51:59.141332Z",
     "shell.execute_reply": "2023-04-22T05:51:59.140385Z",
     "shell.execute_reply.started": "2023-04-22T05:51:51.984478Z"
    }
   },
   "outputs": [],
   "source": [
    "model.evaluate(valid_generator)"
   ]
  },
  {
   "cell_type": "code",
   "execution_count": null,
   "metadata": {
    "execution": {
     "iopub.execute_input": "2023-04-22T06:07:09.533727Z",
     "iopub.status.busy": "2023-04-22T06:07:09.532665Z",
     "iopub.status.idle": "2023-04-22T06:07:16.136140Z",
     "shell.execute_reply": "2023-04-22T06:07:16.134913Z",
     "shell.execute_reply.started": "2023-04-22T06:07:09.533674Z"
    }
   },
   "outputs": [],
   "source": [
    "predictions = model.predict(valid_generator, steps=valid_generator.samples // 128 + 1)\n",
    "print(predictions[0])"
   ]
  },
  {
   "cell_type": "code",
   "execution_count": null,
   "metadata": {
    "execution": {
     "iopub.execute_input": "2023-04-22T06:02:02.067281Z",
     "iopub.status.busy": "2023-04-22T06:02:02.066726Z",
     "iopub.status.idle": "2023-04-22T06:02:02.075922Z",
     "shell.execute_reply": "2023-04-22T06:02:02.074711Z",
     "shell.execute_reply.started": "2023-04-22T06:02:02.067232Z"
    }
   },
   "outputs": [],
   "source": [
    "np.argmax(predictions[0])"
   ]
  },
  {
   "cell_type": "code",
   "execution_count": null,
   "metadata": {
    "execution": {
     "iopub.execute_input": "2023-04-22T06:07:20.075207Z",
     "iopub.status.busy": "2023-04-22T06:07:20.074462Z",
     "iopub.status.idle": "2023-04-22T06:07:20.108704Z",
     "shell.execute_reply": "2023-04-22T06:07:20.107704Z",
     "shell.execute_reply.started": "2023-04-22T06:07:20.075166Z"
    }
   },
   "outputs": [],
   "source": [
    "predicted_classes =[]\n",
    "for pred in predictions:\n",
    "    predicted_classes.append(np.argmax(pred))\n",
    "\n",
    "\n"
   ]
  },
  {
   "cell_type": "code",
   "execution_count": null,
   "metadata": {
    "execution": {
     "iopub.execute_input": "2023-04-22T06:07:22.755834Z",
     "iopub.status.busy": "2023-04-22T06:07:22.755448Z",
     "iopub.status.idle": "2023-04-22T06:07:22.761881Z",
     "shell.execute_reply": "2023-04-22T06:07:22.760633Z",
     "shell.execute_reply.started": "2023-04-22T06:07:22.755798Z"
    }
   },
   "outputs": [],
   "source": [
    "true_classes = valid_generator.classes\n",
    "print(true_classes[5000])"
   ]
  },
  {
   "cell_type": "code",
   "execution_count": null,
   "metadata": {
    "execution": {
     "iopub.execute_input": "2023-04-22T06:07:25.834256Z",
     "iopub.status.busy": "2023-04-22T06:07:25.833305Z",
     "iopub.status.idle": "2023-04-22T06:07:25.843043Z",
     "shell.execute_reply": "2023-04-22T06:07:25.841773Z",
     "shell.execute_reply.started": "2023-04-22T06:07:25.834215Z"
    }
   },
   "outputs": [],
   "source": [
    "cm = confusion_matrix(true_classes, predicted_classes)\n"
   ]
  },
  {
   "cell_type": "code",
   "execution_count": null,
   "metadata": {
    "execution": {
     "iopub.execute_input": "2023-04-22T06:07:26.729984Z",
     "iopub.status.busy": "2023-04-22T06:07:26.729312Z",
     "iopub.status.idle": "2023-04-22T06:07:27.207570Z",
     "shell.execute_reply": "2023-04-22T06:07:27.206610Z",
     "shell.execute_reply.started": "2023-04-22T06:07:26.729944Z"
    }
   },
   "outputs": [],
   "source": [
    "\n",
    "cm_norm = cm.astype('float') / cm.sum(axis=1)[:, np.newaxis]\n",
    "target_names = ['angry', 'disgust', 'fear', 'happy', 'neutral', 'sad', 'surprise']\n",
    "fig, ax = plt.subplots(figsize=(8, 8))\n",
    "ax.matshow(cm_norm, cmap=plt.cm.Blues, alpha=0.3)\n",
    "for i in range(cm_norm.shape[0]):\n",
    "    for j in range(cm_norm.shape[1]):\n",
    "        ax.text(x=j, y=i, s=format(cm_norm[i, j], '.2f'),\n",
    "                ha='center', va='center', color='black', fontsize=14)\n",
    "plt.xticks(np.arange(len(target_names)), target_names, fontsize=14)\n",
    "plt.yticks(np.arange(len(target_names)), target_names, fontsize=14)\n",
    "plt.xlabel('Predicted label', fontsize=14)\n",
    "plt.ylabel('True label', fontsize=14)\n",
    "plt.title('Confusion matrix', fontsize=16)\n",
    "plt.show()"
   ]
  },
  {
   "cell_type": "code",
   "execution_count": null,
   "metadata": {},
   "outputs": [],
   "source": []
  }
 ],
 "metadata": {
  "kernelspec": {
   "display_name": "Python 3 (ipykernel)",
   "language": "python",
   "name": "python3"
  },
  "language_info": {
   "codemirror_mode": {
    "name": "ipython",
    "version": 3
   },
   "file_extension": ".py",
   "mimetype": "text/x-python",
   "name": "python",
   "nbconvert_exporter": "python",
   "pygments_lexer": "ipython3",
   "version": "3.9.16"
  }
 },
 "nbformat": 4,
 "nbformat_minor": 4
}
