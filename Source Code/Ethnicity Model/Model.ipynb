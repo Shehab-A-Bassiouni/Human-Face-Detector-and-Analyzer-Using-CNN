{
 "cells": [
  {
   "cell_type": "code",
   "execution_count": null,
   "id": "a7bb243f",
   "metadata": {},
   "outputs": [],
   "source": [
    "from keras.callbacks import ModelCheckpoint , EarlyStopping ,TensorBoard\n",
    "import pandas as pd\n",
    "import numpy as np\n",
    "import tensorflow as tf\n",
    "from keras.preprocessing.image import ImageDataGenerator\n",
    "from sklearn.utils import class_weight\n",
    "import scipy.io\n",
    "import keras\n",
    "from keras_vggface.vggface import VGGFace\n",
    "from keras.applications import VGG16\n",
    "from keras import layers\n",
    "from keras.models import Model\n",
    "from keras.models import load_model\n",
    "import matplotlib.pyplot as plt\n",
    "from sklearn.metrics import confusion_matrix\n",
    "\n",
    "from keras.layers import Dense, Dropout, GlobalAveragePooling2D ,Flatten\n",
    "import cv2\n",
    "import numpy as np\n",
    "from PIL import Image\n",
    "import dlib\n",
    "import random\n",
    "np.random.seed(42)\n",
    "from keras_vggface import utils"
   ]
  },
  {
   "cell_type": "code",
   "execution_count": null,
   "id": "52c2c80f",
   "metadata": {},
   "outputs": [],
   "source": [
    "pathTrain= \"C:\\\\Users\\\\Shehab\\\\Desktop\\\\Finish\\\\Ethinicity\\\\IDG New\"\n",
    "\n",
    "\n",
    "datagenTrain = ImageDataGenerator(rescale=1./255,\n",
    "                             validation_split=0.3 ,\n",
    "                            rotation_range=20,\n",
    "                            width_shift_range=0.2,\n",
    "                            height_shift_range=0.2,\n",
    "                            shear_range=0.2,\n",
    "                            zoom_range=0.2,\n",
    "                            horizontal_flip=True,\n",
    "                            fill_mode='nearest',\n",
    "                            preprocessing_function=utils.preprocess_input\n",
    "                            )\n",
    "\n",
    "train_generator = datagenTrain.flow_from_directory(\n",
    "        pathTrain,\n",
    "        target_size=(224, 224),\n",
    "        batch_size=128,\n",
    "        class_mode='categorical',\n",
    "         shuffle=True,\n",
    "         subset=\"training\")\n",
    "\n",
    "validation_generator = datagenTrain.flow_from_directory(\n",
    "        pathTrain,\n",
    "        target_size=(224, 224),\n",
    "        batch_size=128,\n",
    "        class_mode='categorical',\n",
    "        subset=\"validation\" ,\n",
    "        shuffle=False)\n",
    "\n",
    "\n"
   ]
  },
  {
   "cell_type": "code",
   "execution_count": null,
   "id": "997ce50d",
   "metadata": {},
   "outputs": [],
   "source": [
    "class_labels = list(train_generator.class_indices.keys())\n",
    "class_counts = train_generator.classes\n",
    "\n",
    "fig, ax = plt.subplots()\n",
    "ax.hist(class_counts, bins=len(class_labels))\n",
    "ax.set_xticks(range(len(class_labels)))\n",
    "ax.set_xticklabels(class_labels, rotation=45, ha='right')\n",
    "ax.set_xlabel('Class ')\n",
    "ax.set_ylabel('Number of images')\n",
    "plt.show()"
   ]
  },
  {
   "cell_type": "code",
   "execution_count": null,
   "id": "89533b01",
   "metadata": {},
   "outputs": [],
   "source": [
    "class_labels = list(validation_generator.class_indices.keys())\n",
    "class_counts = validation_generator.classes\n",
    "\n",
    "fig, ax = plt.subplots()\n",
    "ax.hist(class_counts, bins=len(class_labels))\n",
    "ax.set_xticks(range(len(class_labels)))\n",
    "ax.set_xticklabels(class_labels, rotation=45, ha='right')\n",
    "ax.set_xlabel('Class - Test Dataset')\n",
    "ax.set_ylabel('Number of images')\n",
    "plt.show()"
   ]
  },
  {
   "cell_type": "code",
   "execution_count": null,
   "id": "73a6355b",
   "metadata": {},
   "outputs": [],
   "source": [
    "num_images = [299374, 310804, 269383, 316042 ,17878]\n",
    "total_images = sum(num_images)\n",
    "class_weights = {i: total_images/(len(num_images)*num_images[i]) for i in range(len(num_images))}"
   ]
  },
  {
   "cell_type": "code",
   "execution_count": null,
   "id": "cdfb3334",
   "metadata": {},
   "outputs": [],
   "source": [
    "vggface = VGGFace(model='vgg16' , include_top=False ,input_shape=(224, 224, 3))\n",
    "\n",
    "for layer in vggface.layers:\n",
    "    layer.trainable = False\n",
    "    \n",
    "x = vggface.output\n",
    "x = GlobalAveragePooling2D()(x)\n",
    "x = Dense(1024, activation='relu')(x)\n",
    "x = Dropout(0.5)(x)\n",
    "output_layer = Dense(5, activation='softmax')(x)\n",
    "\n",
    "model = Model(inputs=vggface.input, outputs=output_layer)\n",
    "model.summary()\n",
    "\n"
   ]
  },
  {
   "cell_type": "code",
   "execution_count": null,
   "id": "c8fd60bb",
   "metadata": {},
   "outputs": [],
   "source": [
    "model.compile(loss='categorical_crossentropy', optimizer='adam', metrics=['accuracy'])\n",
    "checkpoint = ModelCheckpoint(filepath=\"CheckPoint.h5\",\n",
    "                             monitor='val_accuracy',\n",
    "                             save_best_only=True,\n",
    "                             save_weights_only=False,\n",
    "                             verbose=1\n",
    "                            )\n",
    "early_stopping = EarlyStopping(monitor='val_loss', patience=5,verbose=1)\n",
    "tensorboard = TensorBoard(log_dir=\"C:\\\\Users\\\\Shehab\\\\Desktop\\\\Ethnicity\")\n"
   ]
  },
  {
   "cell_type": "code",
   "execution_count": null,
   "id": "1a9d48ad",
   "metadata": {},
   "outputs": [],
   "source": [
    "\n",
    "\n",
    "config = tf.compat.v1.ConfigProto( device_count = {'GPU': 1 , 'CPU': 6} ) \n",
    "config.gpu_options.allow_growth = True\n",
    "sess = tf.compat.v1.Session(config=config) \n",
    "keras.backend.set_session(sess)\n",
    "\n",
    "with tf.device('/GPU:0'):\n",
    "    history = model.fit(train_generator,\n",
    "                              batch_size=128,\n",
    "                              validation_data=validation_generator,\n",
    "                              epochs=10,\n",
    "                              callbacks=[early_stopping, checkpoint],\n",
    "                              shuffle=False,\n",
    "                              verbose=1,\n",
    "                              validation_steps=validation_generator.samples // validation_generator.batch_size,\n",
    "                              steps_per_epoch=train_generator.samples // train_generator.batch_size,\n",
    "                                class_weight=class_weights\n",
    "                             )"
   ]
  },
  {
   "cell_type": "code",
   "execution_count": null,
   "id": "f1129665",
   "metadata": {},
   "outputs": [],
   "source": []
  },
  {
   "cell_type": "code",
   "execution_count": null,
   "id": "77f1422e",
   "metadata": {},
   "outputs": [],
   "source": [
    "train_loss = history.history['loss']\n",
    "test_loss = history.history['val_loss']\n",
    "train_accuracy = history.history['accuracy']\n",
    "test_accuracy = history.history['val_accuracy']"
   ]
  },
  {
   "cell_type": "code",
   "execution_count": null,
   "id": "6746758b",
   "metadata": {},
   "outputs": [],
   "source": [
    "fig, ax = plt.subplots(ncols=2, figsize=(15,7))\n",
    "\n",
    "ax = ax.ravel()\n",
    "\n",
    "ax[0].plot(train_loss, label='Train Loss', color='royalblue', marker='o', markersize=5)\n",
    "ax[0].plot(test_loss, label='Test Loss', color = 'orangered', marker='o', markersize=5)\n",
    "\n",
    "ax[0].set_xlabel('Epochs', fontsize=14)\n",
    "ax[0].set_ylabel('Categorical Crossentropy', fontsize=14)\n",
    "\n",
    "ax[0].legend(fontsize=14)\n",
    "ax[0].tick_params(axis='both', labelsize=12)\n",
    "\n",
    "ax[1].plot(train_accuracy, label='Train Accuracy', color='royalblue', marker='o', markersize=5)\n",
    "ax[1].plot(test_accuracy, label='Test Accuracy', color='orangered', marker='o', markersize=5)\n",
    "\n",
    "ax[1].set_xlabel('Epochs', fontsize=14)\n",
    "ax[1].set_ylabel('Accuracy', fontsize=14)\n",
    "\n",
    "ax[1].legend(fontsize=14)\n",
    "ax[1].tick_params(axis='both', labelsize=12)\n",
    "\n",
    "fig.suptitle(x=0.5, y=0.92, t=\"Lineplots showing loss and accuracy of CNN model by epochs\", fontsize=16)\n",
    "\n",
    "plt.savefig('final_cnn_loss_accuracy.png', bbox_inches='tight');"
   ]
  },
  {
   "cell_type": "code",
   "execution_count": null,
   "id": "641aac93",
   "metadata": {},
   "outputs": [],
   "source": [
    "model.evaluate(validation_generator)"
   ]
  },
  {
   "cell_type": "code",
   "execution_count": null,
   "id": "232bb7d5",
   "metadata": {},
   "outputs": [],
   "source": [
    "predictions = model.predict(validation_generator, steps=validation_generator.samples // 128 + 1)\n"
   ]
  },
  {
   "cell_type": "code",
   "execution_count": null,
   "id": "fd0bf4ab",
   "metadata": {},
   "outputs": [],
   "source": []
  },
  {
   "cell_type": "code",
   "execution_count": null,
   "id": "acabdda6",
   "metadata": {},
   "outputs": [],
   "source": [
    "predicted_classes =[]\n",
    "for pred in predictions:\n",
    "    predicted_classes.append(np.argmax(pred))\n",
    "\n",
    "    "
   ]
  },
  {
   "cell_type": "code",
   "execution_count": null,
   "id": "20d89acd",
   "metadata": {},
   "outputs": [],
   "source": [
    "true_classes = validation_generator.classes"
   ]
  },
  {
   "cell_type": "code",
   "execution_count": null,
   "id": "f369ae17",
   "metadata": {},
   "outputs": [],
   "source": []
  },
  {
   "cell_type": "code",
   "execution_count": null,
   "id": "32fea8d6",
   "metadata": {},
   "outputs": [],
   "source": [
    "cm = confusion_matrix(true_classes, predicted_classes)\n"
   ]
  },
  {
   "cell_type": "code",
   "execution_count": null,
   "id": "7e7ded6c",
   "metadata": {},
   "outputs": [],
   "source": [
    "\n",
    "cm_norm = cm.astype('float') / cm.sum(axis=1)[:, np.newaxis]\n",
    "target_names = ['caucassian', 'African', 'Indian', 'Asian' , 'middle east']\n",
    "fig, ax = plt.subplots(figsize=(8, 8))\n",
    "ax.matshow(cm_norm, cmap=plt.cm.Blues, alpha=0.3)\n",
    "for i in range(cm_norm.shape[0]):\n",
    "    for j in range(cm_norm.shape[1]):\n",
    "        ax.text(x=j, y=i, s=format(cm_norm[i, j], '.2f'),\n",
    "                ha='center', va='center', color='black', fontsize=14)\n",
    "plt.xticks(np.arange(len(target_names)), target_names, fontsize=14)\n",
    "plt.yticks(np.arange(len(target_names)), target_names, fontsize=14)\n",
    "plt.xlabel('Predicted label', fontsize=14)\n",
    "plt.ylabel('True label', fontsize=14)\n",
    "plt.title('Confusion matrix', fontsize=16)\n",
    "plt.show()"
   ]
  },
  {
   "cell_type": "code",
   "execution_count": null,
   "id": "b9d2f257",
   "metadata": {},
   "outputs": [],
   "source": []
  }
 ],
 "metadata": {
  "kernelspec": {
   "display_name": "Python (aho)",
   "language": "python",
   "name": "aho"
  },
  "language_info": {
   "codemirror_mode": {
    "name": "ipython",
    "version": 3
   },
   "file_extension": ".py",
   "mimetype": "text/x-python",
   "name": "python",
   "nbconvert_exporter": "python",
   "pygments_lexer": "ipython3",
   "version": "3.9.16"
  }
 },
 "nbformat": 4,
 "nbformat_minor": 5
}
