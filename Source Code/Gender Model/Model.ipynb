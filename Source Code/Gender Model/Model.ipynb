{
 "cells": [
  {
   "cell_type": "code",
   "execution_count": null,
   "id": "fac64d9c",
   "metadata": {},
   "outputs": [],
   "source": [
    "import tensorflow as tf\n",
    "from tensorflow.keras.preprocessing.image import ImageDataGenerator\n",
    "import scipy\n",
    "from tensorflow.keras.callbacks import EarlyStopping ,ModelCheckpoint ,TensorBoard\n",
    "import matplotlib.pyplot as plt\n",
    "from sklearn.metrics import confusion_matrix\n",
    "import numpy as np\n",
    "import matplotlib.pyplot as plt\n"
   ]
  },
  {
   "cell_type": "code",
   "execution_count": null,
   "id": "7d9eac7b",
   "metadata": {},
   "outputs": [],
   "source": [
    "train_data_dir =\"C:\\\\Users\\\\Shehab\\\\Desktop\\\\Finish\\\\Gender\\\\Gender\\\\train\"\n",
    "train_datagen = ImageDataGenerator(rescale=1./255 , validation_split=0.25)\n",
    "train_generator = train_datagen.flow_from_directory(train_data_dir,\n",
    "                                                    target_size=(128, 128 ),\n",
    "                                                    batch_size=32,\n",
    "                                                    class_mode='binary',\n",
    "                                                   subset='training' )\n",
    "\n",
    "validation_generator = train_datagen.flow_from_directory(\n",
    "        train_data_dir,\n",
    "        target_size=(128, 128),\n",
    "        batch_size=32,\n",
    "        class_mode='binary',\n",
    "        subset='validation')"
   ]
  },
  {
   "cell_type": "code",
   "execution_count": null,
   "id": "6c7c843a",
   "metadata": {},
   "outputs": [],
   "source": [
    "class_labels = list(train_generator.class_indices.keys())\n",
    "class_counts = train_generator.classes\n",
    "\n",
    "fig, ax = plt.subplots()\n",
    "ax.hist(class_counts, bins=len(class_labels))\n",
    "ax.set_xticks(range(len(class_labels)))\n",
    "ax.set_xticklabels(class_labels, rotation=45, ha='right')\n",
    "ax.set_xlabel('Class - Train Dataset')\n",
    "ax.set_ylabel('Number of images')\n",
    "plt.show()"
   ]
  },
  {
   "cell_type": "code",
   "execution_count": null,
   "id": "caee9673",
   "metadata": {},
   "outputs": [],
   "source": [
    "class_labels = list(validation_generator.class_indices.keys())\n",
    "class_counts = validation_generator.classes\n",
    "\n",
    "fig, ax = plt.subplots()\n",
    "ax.hist(class_counts, bins=len(class_labels))\n",
    "ax.set_xticks(range(len(class_labels)))\n",
    "ax.set_xticklabels(class_labels, rotation=45, ha='right')\n",
    "ax.set_xlabel('Class')\n",
    "ax.set_ylabel('Number of images')\n",
    "plt.show()"
   ]
  },
  {
   "cell_type": "code",
   "execution_count": null,
   "id": "a8d4866b",
   "metadata": {},
   "outputs": [],
   "source": [
    "\n",
    "batch_size=32\n",
    "num_of_epoches=50\n",
    "\n",
    "input_shape = (128, 128, 3)\n",
    "\n",
    "model = tf.keras.models.Sequential([\n",
    "    tf.keras.layers.InputLayer(input_shape=input_shape),\n",
    "    tf.keras.layers.Conv2D(filters=32, kernel_size=3, padding='same'),\n",
    "    tf.keras.layers.ReLU(),\n",
    "    tf.keras.layers.BatchNormalization(),\n",
    "    tf.keras.layers.MaxPooling2D(pool_size=2),\n",
    "    tf.keras.layers.Dropout(0.25),\n",
    "    tf.keras.layers.Conv2D(filters=64, kernel_size=5, padding='same'),\n",
    "    tf.keras.layers.ReLU(),\n",
    "    tf.keras.layers.BatchNormalization(),\n",
    "    tf.keras.layers.Conv2D(filters=64, kernel_size=5, padding='same'),\n",
    "    tf.keras.layers.ReLU(),\n",
    "    tf.keras.layers.BatchNormalization(),\n",
    "    tf.keras.layers.MaxPooling2D(pool_size=2),\n",
    "    tf.keras.layers.Dropout(0.25),\n",
    "    tf.keras.layers.Conv2D(filters=128, kernel_size=3, padding='same'),\n",
    "    tf.keras.layers.ReLU(),\n",
    "    tf.keras.layers.BatchNormalization(),\n",
    "    tf.keras.layers.Conv2D(filters=128, kernel_size=3, padding='same'),\n",
    "    tf.keras.layers.ReLU(),\n",
    "    tf.keras.layers.BatchNormalization(),\n",
    "    tf.keras.layers.MaxPooling2D(pool_size=2),\n",
    "    tf.keras.layers.Dropout(0.25),\n",
    "    tf.keras.layers.Flatten(),\n",
    "    tf.keras.layers.Dense(units=1024),\n",
    "    tf.keras.layers.ReLU(),\n",
    "    tf.keras.layers.BatchNormalization(),\n",
    "    tf.keras.layers.Dropout(0.5),\n",
    "    tf.keras.layers.Dense(units=1, activation='sigmoid')\n",
    "])\n",
    "\n",
    "model.compile(loss='binary_crossentropy', \n",
    "              optimizer='adam', \n",
    "              metrics=['accuracy'])\n",
    "\n",
    "model.summary()\n",
    "early_stopping = EarlyStopping(monitor='val_loss', patience=5)\n",
    "checkpoint = ModelCheckpoint(filepath=\"CheckPoint.h5\",\n",
    "                         monitor='val_accuracy',\n",
    "                         save_best_only=True,\n",
    "                         save_weights_only=False,\n",
    "                         verbose=1\n",
    "                        )\n",
    "tensorboard = TensorBoard(log_dir=\"C:\\\\Users\\\\Shehab\\\\Desktop\\\\Gender\")\n",
    "\n",
    "\n",
    "    \n"
   ]
  },
  {
   "cell_type": "code",
   "execution_count": null,
   "id": "e564d6e6",
   "metadata": {},
   "outputs": [],
   "source": [
    "config = tf.compat.v1.ConfigProto( device_count = {'GPU': 1 , 'CPU': 6} ) \n",
    "config.gpu_options.allow_growth = True\n",
    "sess = tf.compat.v1.Session(config=config) \n",
    "\n",
    "with tf.device('/GPU:0'):\n",
    "    history = model.fit(train_generator,\n",
    "                        steps_per_epoch=train_generator.n // batch_size,\n",
    "                        epochs=num_of_epoches,\n",
    "                        validation_data=validation_generator,\n",
    "                        validation_steps=validation_generator.n // batch_size ,\n",
    "                       verbose=1 , callbacks=[early_stopping ,checkpoint ,tensorboard])"
   ]
  },
  {
   "cell_type": "code",
   "execution_count": null,
   "id": "4a66c1f3",
   "metadata": {},
   "outputs": [],
   "source": [
    "train_loss = history.history['loss']\n",
    "test_loss = history.history['val_loss']\n",
    "train_accuracy = history.history['accuracy']\n",
    "test_accuracy = history.history['val_accuracy']"
   ]
  },
  {
   "cell_type": "code",
   "execution_count": null,
   "id": "8383750b",
   "metadata": {},
   "outputs": [],
   "source": [
    "fig, ax = plt.subplots(ncols=2, figsize=(15,7))\n",
    "\n",
    "ax = ax.ravel()\n",
    "\n",
    "ax[0].plot(train_loss, label='Train Loss', color='royalblue', marker='o', markersize=5)\n",
    "ax[0].plot(test_loss, label='Test Loss', color = 'orangered', marker='o', markersize=5)\n",
    "\n",
    "ax[0].set_xlabel('Epochs', fontsize=14)\n",
    "ax[0].set_ylabel('Categorical Crossentropy', fontsize=14)\n",
    "\n",
    "ax[0].legend(fontsize=14)\n",
    "ax[0].tick_params(axis='both', labelsize=12)\n",
    "\n",
    "ax[1].plot(train_accuracy, label='Train Accuracy', color='royalblue', marker='o', markersize=5)\n",
    "ax[1].plot(test_accuracy, label='Test Accuracy', color='orangered', marker='o', markersize=5)\n",
    "\n",
    "ax[1].set_xlabel('Epochs', fontsize=14)\n",
    "ax[1].set_ylabel('Accuracy', fontsize=14)\n",
    "\n",
    "ax[1].legend(fontsize=14)\n",
    "ax[1].tick_params(axis='both', labelsize=12)\n",
    "\n",
    "fig.suptitle(x=0.5, y=0.92, t=\"Lineplots showing loss and accuracy of CNN model by epochs\", fontsize=16)\n",
    "\n",
    "plt.savefig('final_cnn_loss_accuracy.png', bbox_inches='tight');"
   ]
  },
  {
   "cell_type": "code",
   "execution_count": null,
   "id": "8ffce4f2",
   "metadata": {},
   "outputs": [],
   "source": [
    "test_data_dir =\"C:\\\\Users\\\\Shehab\\\\Desktop\\\\Gender\\\\Gender\\\\test\"\n",
    "test_datagen = ImageDataGenerator(rescale=1./255)\n",
    "test_generator = test_datagen.flow_from_directory(\n",
    "        test_data_dir,\n",
    "        target_size=(128, 128),\n",
    "        batch_size=32,\n",
    "        class_mode='binary',\n",
    "        shuffle=False)\n"
   ]
  },
  {
   "cell_type": "code",
   "execution_count": null,
   "id": "376a67b8",
   "metadata": {},
   "outputs": [],
   "source": [
    "model.evaluate(test_generator)"
   ]
  },
  {
   "cell_type": "code",
   "execution_count": null,
   "id": "2419b228",
   "metadata": {},
   "outputs": [],
   "source": [
    "predictions = model.predict(test_generator, steps=test_generator.samples // batch_size + 1)\n",
    "true_classes = test_generator.classes\n"
   ]
  },
  {
   "cell_type": "code",
   "execution_count": null,
   "id": "20f6cf74",
   "metadata": {},
   "outputs": [],
   "source": [
    "predicted_classes = []\n",
    "for pred in predictions:\n",
    "    if pred[0] >= 0.5:\n",
    "        predicted_classes.append(1)\n",
    "    else:\n",
    "        predicted_classes.append(0)\n"
   ]
  },
  {
   "cell_type": "code",
   "execution_count": null,
   "id": "829a183f",
   "metadata": {},
   "outputs": [],
   "source": [
    "cm = confusion_matrix(true_classes, predicted_classes)\n"
   ]
  },
  {
   "cell_type": "code",
   "execution_count": null,
   "id": "0017aa43",
   "metadata": {},
   "outputs": [],
   "source": [
    "cm_norm = cm.astype('float') / cm.sum(axis=1)[:, np.newaxis]\n",
    "target_names = ['Female', 'Male']\n",
    "fig, ax = plt.subplots(figsize=(8, 8))\n",
    "ax.matshow(cm_norm, cmap=plt.cm.Blues, alpha=0.3)\n",
    "for i in range(cm_norm.shape[0]):\n",
    "    for j in range(cm_norm.shape[1]):\n",
    "        ax.text(x=j, y=i, s=format(cm_norm[i, j], '.2f'),\n",
    "                ha='center', va='center', color='black', fontsize=14)\n",
    "plt.xticks(np.arange(len(target_names)), target_names, fontsize=14)\n",
    "plt.yticks(np.arange(len(target_names)), target_names, fontsize=14)\n",
    "plt.xlabel('Predicted label', fontsize=14)\n",
    "plt.ylabel('True label', fontsize=14)\n",
    "plt.title('Confusion matrix', fontsize=16)\n",
    "plt.show()"
   ]
  },
  {
   "cell_type": "code",
   "execution_count": null,
   "id": "d722a655",
   "metadata": {},
   "outputs": [],
   "source": []
  }
 ],
 "metadata": {
  "kernelspec": {
   "display_name": "Python (aho)",
   "language": "python",
   "name": "aho"
  },
  "language_info": {
   "codemirror_mode": {
    "name": "ipython",
    "version": 3
   },
   "file_extension": ".py",
   "mimetype": "text/x-python",
   "name": "python",
   "nbconvert_exporter": "python",
   "pygments_lexer": "ipython3",
   "version": "3.9.16"
  }
 },
 "nbformat": 4,
 "nbformat_minor": 5
}
