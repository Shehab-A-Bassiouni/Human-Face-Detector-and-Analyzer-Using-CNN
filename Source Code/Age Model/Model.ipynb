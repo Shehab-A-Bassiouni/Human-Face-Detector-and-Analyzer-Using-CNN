{
 "cells": [
  {
   "cell_type": "code",
   "execution_count": null,
   "id": "3f43c46b",
   "metadata": {},
   "outputs": [],
   "source": [
    "import pandas as pd\n",
    "import numpy as np\n",
    "import tensorflow as tf\n",
    "from tensorflow.keras.models import Sequential\n",
    "from tensorflow.keras.layers import Dense\n",
    "from tensorflow.keras.layers import Conv2D, AveragePooling2D, GlobalAveragePooling2D\n",
    "from tensorflow.keras import utils\n",
    "from tensorflow.keras.callbacks import ModelCheckpoint , EarlyStopping ,TensorBoard\n",
    "import matplotlib.pyplot as plt\n",
    "from sklearn.metrics import confusion_matrix\n",
    "import itertools\n",
    "\n",
    "\n",
    "np.random.seed(42)\n",
    "tf.random.set_seed(42)"
   ]
  },
  {
   "cell_type": "code",
   "execution_count": null,
   "id": "b8bb567e",
   "metadata": {},
   "outputs": [],
   "source": [
    "train = pd.read_csv(\"C:\\\\Users\\\\Shehab\\\\Desktop\\\\Age\\\\images_filenames_labels_train_augmented_preprocessed.csv\")\n"
   ]
  },
  {
   "cell_type": "code",
   "execution_count": null,
   "id": "220c9529",
   "metadata": {},
   "outputs": [],
   "source": [
    "split_percentage = 0.8\n",
    "\n",
    "train_aug_df = train.sample(frac=split_percentage, random_state=42)\n",
    "test_df = train.drop(train_aug_df.index)\n",
    "print(train_aug_df.shape[0])\n",
    "print(test_df.shape[0])"
   ]
  },
  {
   "cell_type": "code",
   "execution_count": null,
   "id": "d095ec0b",
   "metadata": {},
   "outputs": [],
   "source": [
    "train_aug_filenames_list = list(train_aug_df['filename'])\n",
    "train_aug_labels_list = list(train_aug_df['target'])\n",
    "\n",
    "test_filenames_list = list(test_df['filename'])\n",
    "test_labels_list = list(test_df['target'])"
   ]
  },
  {
   "cell_type": "code",
   "execution_count": null,
   "id": "012ad927",
   "metadata": {},
   "outputs": [],
   "source": [
    "train_aug_filenames_tensor = tf.constant(train_aug_filenames_list)\n",
    "train_aug_labels_tensor = tf.constant(train_aug_labels_list)\n",
    "\n",
    "test_filenames_tensor = tf.constant(test_filenames_list)\n",
    "test_labels_tensor = tf.constant(test_labels_list)"
   ]
  },
  {
   "cell_type": "code",
   "execution_count": null,
   "id": "883cb141",
   "metadata": {},
   "outputs": [],
   "source": [
    "num_classes = 7\n",
    "\n",
    "def _parse_function(filename, label):\n",
    "    \n",
    "    image_string = tf.io.read_file(filename)\n",
    "    image_decoded = tf.io.decode_jpeg(image_string, channels=1)\n",
    "    image_resized = tf.image.resize(image_decoded, [128, 128])\n",
    "    label = tf.one_hot(label, num_classes)\n",
    "    return image_resized, label"
   ]
  },
  {
   "cell_type": "code",
   "execution_count": null,
   "id": "f72f7490",
   "metadata": {},
   "outputs": [],
   "source": [
    "train_aug_dataset = tf.data.Dataset.from_tensor_slices((train_aug_filenames_tensor, train_aug_labels_tensor))\n",
    "train_aug_dataset = train_aug_dataset.map(_parse_function)\n",
    "train_aug_dataset = train_aug_dataset.batch(32)   \n",
    "\n",
    "test_dataset = tf.data.Dataset.from_tensor_slices((test_filenames_tensor, test_labels_tensor))\n",
    "test_dataset = test_dataset.map(_parse_function)\n",
    "test_dataset = test_dataset.batch(32)    "
   ]
  },
  {
   "cell_type": "code",
   "execution_count": null,
   "id": "200b54f1",
   "metadata": {},
   "outputs": [],
   "source": [
    "\n",
    "\n",
    "input_shape = (128, 128, 1)\n",
    "model = tf.keras.models.Sequential([\n",
    "    tf.keras.layers.InputLayer(input_shape=input_shape),\n",
    "    tf.keras.layers.Conv2D(filters=32, kernel_size=3, padding='same'),\n",
    "    tf.keras.layers.ReLU(),\n",
    "    tf.keras.layers.BatchNormalization(),\n",
    "    tf.keras.layers.MaxPooling2D(pool_size=2),\n",
    "    tf.keras.layers.Dropout(0.25),\n",
    "    tf.keras.layers.Conv2D(filters=64, kernel_size=5, padding='same'),\n",
    "    tf.keras.layers.ReLU(),\n",
    "    tf.keras.layers.BatchNormalization(),\n",
    "    tf.keras.layers.Conv2D(filters=64, kernel_size=5, padding='same'),\n",
    "    tf.keras.layers.ReLU(),\n",
    "    tf.keras.layers.BatchNormalization(),\n",
    "    tf.keras.layers.MaxPooling2D(pool_size=2),\n",
    "    tf.keras.layers.Dropout(0.25),\n",
    "    tf.keras.layers.Conv2D(filters=128, kernel_size=3, padding='same'),\n",
    "    tf.keras.layers.ReLU(),\n",
    "    tf.keras.layers.BatchNormalization(),\n",
    "    tf.keras.layers.Conv2D(filters=128, kernel_size=3, padding='same'),\n",
    "    tf.keras.layers.ReLU(),\n",
    "    tf.keras.layers.BatchNormalization(),\n",
    "    tf.keras.layers.MaxPooling2D(pool_size=2),\n",
    "    tf.keras.layers.Dropout(0.25),\n",
    "    tf.keras.layers.Flatten(),\n",
    "    tf.keras.layers.Dense(units=1024),\n",
    "    tf.keras.layers.ReLU(),\n",
    "    tf.keras.layers.BatchNormalization(),\n",
    "    tf.keras.layers.Dropout(0.5),\n",
    "    tf.keras.layers.Dense(units=7, activation='softmax')\n",
    "])"
   ]
  },
  {
   "cell_type": "code",
   "execution_count": null,
   "id": "cb18e701",
   "metadata": {},
   "outputs": [],
   "source": [
    "model.summary()"
   ]
  },
  {
   "cell_type": "code",
   "execution_count": null,
   "id": "89a96122",
   "metadata": {},
   "outputs": [],
   "source": [
    "model.compile(loss='categorical_crossentropy', optimizer='adam', metrics=['accuracy'])\n",
    "checkpoint = ModelCheckpoint(filepath=\"CheckPoint.h5\",\n",
    "                             monitor='val_accuracy',\n",
    "                             save_best_only=True,\n",
    "                             save_weights_only=False,\n",
    "                             verbose=1\n",
    "                            )\n",
    "early_stopping = EarlyStopping(monitor='val_loss', patience=5,verbose=1)\n",
    "tensorboard = TensorBoard(log_dir=\"C:\\\\Users\\\\Shehab\\\\Desktop\\\\Age\")\n"
   ]
  },
  {
   "cell_type": "code",
   "execution_count": null,
   "id": "d07c98f3",
   "metadata": {},
   "outputs": [],
   "source": [
    "config = tf.compat.v1.ConfigProto()\n",
    "config.gpu_options.allow_growth = True\n",
    "session = tf.compat.v1.Session(config=config)\n",
    "with tf.device('/GPU:0'):\n",
    "    history = model.fit(train_aug_dataset,\n",
    "                                  batch_size=32,\n",
    "                                  validation_data=test_dataset,\n",
    "                                  epochs=50,\n",
    "                                  callbacks=[early_stopping, checkpoint,tensorboard],\n",
    "                                  shuffle=False,\n",
    "                                  verbose=1\n",
    "                                 )"
   ]
  },
  {
   "cell_type": "code",
   "execution_count": null,
   "id": "3c819df2",
   "metadata": {},
   "outputs": [],
   "source": [
    "train_loss = history.history['loss']\n",
    "test_loss = history.history['val_loss']\n",
    "train_accuracy = history.history['accuracy']\n",
    "test_accuracy = history.history['val_accuracy']"
   ]
  },
  {
   "cell_type": "code",
   "execution_count": null,
   "id": "c539a8ca",
   "metadata": {},
   "outputs": [],
   "source": [
    "fig, ax = plt.subplots(ncols=2, figsize=(15,7))\n",
    "\n",
    "ax = ax.ravel()\n",
    "\n",
    "ax[0].plot(train_loss, label='Train Loss', color='royalblue', marker='o', markersize=5)\n",
    "ax[0].plot(test_loss, label='Test Loss', color = 'orangered', marker='o', markersize=5)\n",
    "\n",
    "ax[0].set_xlabel('Epochs', fontsize=14)\n",
    "ax[0].set_ylabel('Categorical Crossentropy', fontsize=14)\n",
    "\n",
    "ax[0].legend(fontsize=14)\n",
    "ax[0].tick_params(axis='both', labelsize=12)\n",
    "\n",
    "ax[1].plot(train_accuracy, label='Train Accuracy', color='royalblue', marker='o', markersize=5)\n",
    "ax[1].plot(test_accuracy, label='Test Accuracy', color='orangered', marker='o', markersize=5)\n",
    "\n",
    "ax[1].set_xlabel('Epochs', fontsize=14)\n",
    "ax[1].set_ylabel('Accuracy', fontsize=14)\n",
    "\n",
    "ax[1].legend(fontsize=14)\n",
    "ax[1].tick_params(axis='both', labelsize=12)\n",
    "\n",
    "fig.suptitle(x=0.5, y=0.92, t=\"Lineplots showing loss and accuracy of CNN model by epochs\", fontsize=16)\n",
    "\n",
    "\n",
    "plt.savefig('final_cnn_loss_accuracy.png', bbox_inches='tight');"
   ]
  },
  {
   "cell_type": "code",
   "execution_count": null,
   "id": "aa57b7e2",
   "metadata": {},
   "outputs": [],
   "source": [
    "model.evaluate(test_dataset)"
   ]
  },
  {
   "cell_type": "code",
   "execution_count": null,
   "id": "a2213fe4",
   "metadata": {},
   "outputs": [],
   "source": [
    "final_cnn_pred = model.predict(test_dataset)\n",
    "\n",
    "\n"
   ]
  },
  {
   "cell_type": "code",
   "execution_count": null,
   "id": "d02cfa6c",
   "metadata": {},
   "outputs": [],
   "source": [
    "final_cnn_pred = final_cnn_pred.argmax(axis=-1)\n",
    "conf_mat = confusion_matrix(test_labels_list, final_cnn_pred)"
   ]
  },
  {
   "cell_type": "code",
   "execution_count": null,
   "id": "8bc624f9",
   "metadata": {},
   "outputs": [],
   "source": [
    "\n",
    "\n",
    "def plot_confusion_matrix(cm, classes, normalize=False, title='Confusion Matrix', export_as='confusion_matrix', cmap=plt.cm.Blues):\n",
    "    \"\"\"\n",
    "    This function prints and plots the confusion matrix.\n",
    "    Normalization can be applied by setting `normalize=True`.\n",
    "    \"\"\"\n",
    "    if normalize:\n",
    "        cm = cm.astype('float') / cm.sum(axis=1)[:, np.newaxis]\n",
    "        print(\"Normalized confusion matrix\")\n",
    "    else:\n",
    "        print('Confusion matrix, without normalization')\n",
    "\n",
    " \n",
    "\n",
    "    plt.imshow(cm, interpolation='nearest', cmap=cmap)\n",
    "    plt.title(title, fontsize=16)\n",
    "    plt.colorbar()\n",
    "    tick_marks = np.arange(len(classes))\n",
    "    plt.xticks(tick_marks, classes, rotation=45)\n",
    "    plt.yticks(tick_marks, classes)\n",
    "\n",
    "    fmt = '.2f' if normalize else 'd'\n",
    "    thresh = cm.max() / 2.\n",
    "    for i, j in itertools.product(range(cm.shape[0]), range(cm.shape[1])):\n",
    "        plt.text(j, i, format(cm[i, j], fmt), horizontalalignment=\"center\", color=\"white\" if cm[i, j] > thresh else \"black\")\n",
    "\n",
    "    plt.tight_layout()\n",
    "    plt.ylabel('True labels', fontsize=14)\n",
    "    plt.xlabel('Predicted labels', fontsize=14)\n",
    "\n",
    "\n",
    "    plt.savefig('C:\\\\Users\\\\Shehab\\\\Desktop\\\\Age\\\\{export_as}.png', bbox_inches='tight');"
   ]
  },
  {
   "cell_type": "code",
   "execution_count": null,
   "id": "65b1b52f",
   "metadata": {},
   "outputs": [],
   "source": [
    "\n",
    "\n",
    "cm_plot_labels = ['1-2', '3-9', '10-20', '21-27', '28-45', '46-65', '66-116']\n",
    "\n",
    "plt.figure(figsize=(16,8))\n",
    "plot_confusion_matrix(conf_mat, cm_plot_labels, normalize=True,\n",
    "                      title=\"Confusion Matrix based on predictions from CNN model\",\n",
    "                      export_as=\"final_cnn_conf_mat_norm\"\n",
    "                     )\n",
    "\n",
    "plt.show()"
   ]
  },
  {
   "cell_type": "code",
   "execution_count": null,
   "id": "6a5397f6",
   "metadata": {},
   "outputs": [],
   "source": []
  }
 ],
 "metadata": {
  "kernelspec": {
   "display_name": "Python (aho)",
   "language": "python",
   "name": "aho"
  },
  "language_info": {
   "codemirror_mode": {
    "name": "ipython",
    "version": 3
   },
   "file_extension": ".py",
   "mimetype": "text/x-python",
   "name": "python",
   "nbconvert_exporter": "python",
   "pygments_lexer": "ipython3",
   "version": "3.9.16"
  }
 },
 "nbformat": 4,
 "nbformat_minor": 5
}
