{
 "cells": [
  {
   "cell_type": "code",
   "execution_count": null,
   "id": "4164cb44",
   "metadata": {},
   "outputs": [],
   "source": [
    "import pandas as pd\n",
    "import numpy as np"
   ]
  },
  {
   "cell_type": "code",
   "execution_count": null,
   "id": "98f89cf4",
   "metadata": {},
   "outputs": [],
   "source": [
    "train_aug_df = pd.read_csv(\"C:\\\\Users\\\\Shehab\\\\Desktop\\\\Age\\\\images_filenames_labels_train_augmented.csv\")\n",
    "test_df = pd.read_csv(\"C:\\\\Users\\\\Shehab\\\\Desktop\\\\Age\\\\images_filenames_labels_test.csv\")"
   ]
  },
  {
   "cell_type": "code",
   "execution_count": null,
   "id": "acdfa0aa",
   "metadata": {},
   "outputs": [],
   "source": [
    "train_aug_df.drop(columns=['target'], inplace=True)\n",
    "\n",
    "test_df.drop(columns=['target'], inplace=True)\n"
   ]
  },
  {
   "cell_type": "code",
   "execution_count": null,
   "id": "0e78cce4",
   "metadata": {},
   "outputs": [],
   "source": [
    "train_aug_df.head()\n"
   ]
  },
  {
   "cell_type": "code",
   "execution_count": null,
   "id": "881fa715",
   "metadata": {},
   "outputs": [],
   "source": [
    "test_df.head()"
   ]
  },
  {
   "cell_type": "code",
   "execution_count": null,
   "id": "a0522204",
   "metadata": {},
   "outputs": [],
   "source": [
    "print(train_aug_df.shape)\n",
    "print(test_df.shape)\n"
   ]
  },
  {
   "cell_type": "code",
   "execution_count": null,
   "id": "21b626b7",
   "metadata": {},
   "outputs": [],
   "source": [
    "def class_labels_reassign(age):\n",
    "\n",
    "    if 1 <= age <= 2:\n",
    "        return 0\n",
    "    elif 3 <= age <= 9:\n",
    "        return 1\n",
    "    elif 10 <= age <= 20:\n",
    "        return 2\n",
    "    elif 21 <= age <= 27:\n",
    "        return 3\n",
    "    elif 28 <= age <= 45:\n",
    "        return 4\n",
    "    elif 46 <= age <= 65:\n",
    "        return 5\n",
    "    else:\n",
    "        return 6"
   ]
  },
  {
   "cell_type": "code",
   "execution_count": null,
   "id": "1e73baff",
   "metadata": {},
   "outputs": [],
   "source": [
    "train_aug_df['target'] = train_aug_df['age'].map(class_labels_reassign)\n",
    "test_df['target'] = test_df['age'].map(class_labels_reassign)"
   ]
  },
  {
   "cell_type": "code",
   "execution_count": null,
   "id": "09785193",
   "metadata": {},
   "outputs": [],
   "source": [
    "train_aug_df.head()\n"
   ]
  },
  {
   "cell_type": "code",
   "execution_count": null,
   "id": "9ab40e6b",
   "metadata": {},
   "outputs": [],
   "source": [
    "test_df.head()"
   ]
  },
  {
   "cell_type": "code",
   "execution_count": null,
   "id": "ccfbe19b",
   "metadata": {},
   "outputs": [],
   "source": [
    "train_aug_df['target'].value_counts(normalize=True)\n"
   ]
  },
  {
   "cell_type": "code",
   "execution_count": null,
   "id": "dd6d30b0",
   "metadata": {},
   "outputs": [],
   "source": [
    "test_df['target'].value_counts(normalize=True)"
   ]
  },
  {
   "cell_type": "code",
   "execution_count": null,
   "id": "7afe774e",
   "metadata": {},
   "outputs": [],
   "source": [
    "train_aug_df['filename'] = train_aug_df['filename'].str.replace('/' ,'\\\\')\n",
    "train_aug_df['filename'][0]"
   ]
  },
  {
   "cell_type": "code",
   "execution_count": null,
   "id": "3b35024d",
   "metadata": {},
   "outputs": [],
   "source": [
    "train_aug_df.to_csv(\"images_filenames_labels_train_augmented_preprocessed.csv\" ,index=False)\n",
    "test_df.to_csv(\"images_filenames_labels_test_preprocessed.csv\" , index=False)"
   ]
  },
  {
   "cell_type": "code",
   "execution_count": null,
   "id": "98e90be1",
   "metadata": {},
   "outputs": [],
   "source": []
  }
 ],
 "metadata": {
  "kernelspec": {
   "display_name": "Python (aho)",
   "language": "python",
   "name": "aho"
  },
  "language_info": {
   "codemirror_mode": {
    "name": "ipython",
    "version": 3
   },
   "file_extension": ".py",
   "mimetype": "text/x-python",
   "name": "python",
   "nbconvert_exporter": "python",
   "pygments_lexer": "ipython3",
   "version": "3.9.16"
  }
 },
 "nbformat": 4,
 "nbformat_minor": 5
}
